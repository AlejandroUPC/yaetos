{
 "cells": [
  {
   "cell_type": "markdown",
   "id": "3c24388d",
   "metadata": {},
   "source": [
    "## Demo \n",
    "\n",
    "Executing a yaetos pipeline (a job with its dependencies) from jupyter notebook and checking parameters and results"
   ]
  },
  {
   "cell_type": "code",
   "execution_count": 1,
   "id": "8495804b",
   "metadata": {},
   "outputs": [],
   "source": [
    "import os; os.chdir(os.environ.get('YAETOS_JOBS_HOME', ''))\n",
    "import logging; logging.getLogger('Job').setLevel(logging.CRITICAL)\n",
    "from jobs.examples.ex4_dependency4_job import Job\n",
    "from yaetos.etl_utils import Runner"
   ]
  },
  {
   "cell_type": "code",
   "execution_count": 2,
   "id": "f429d335",
   "metadata": {},
   "outputs": [
    {
     "name": "stdout",
     "output_type": "stream",
     "text": [
      "+----------+--------------+--------------------+\n",
      "|session_id|session_length|         _created_at|\n",
      "+----------+--------------+--------------------+\n",
      "|        s1|             2|2022-05-25 21:48:...|\n",
      "|        s2|             2|2022-05-25 21:48:...|\n",
      "|        s3|             2|2022-05-25 21:48:...|\n",
      "+----------+--------------+--------------------+\n",
      "\n",
      "+----------+--------------+--------------+--------------------+\n",
      "|session_id|session_length|doubled_length|         _created_at|\n",
      "+----------+--------------+--------------+--------------------+\n",
      "|        s1|             2|           4.0|2022-05-25 21:49:...|\n",
      "|        s2|             2|           4.0|2022-05-25 21:49:...|\n",
      "|        s3|             2|           4.0|2022-05-25 21:49:...|\n",
      "+----------+--------------+--------------+--------------------+\n",
      "\n",
      "+----------+--------------+--------------+-----------------+--------------------+\n",
      "|session_id|session_length|doubled_length|quadrupled_length|         _created_at|\n",
      "+----------+--------------+--------------+-----------------+--------------------+\n",
      "|        s1|             2|           4.0|              8.0|2022-05-25 21:49:...|\n",
      "|        s2|             2|           4.0|              8.0|2022-05-25 21:49:...|\n",
      "|        s3|             2|           4.0|              8.0|2022-05-25 21:49:...|\n",
      "+----------+--------------+--------------+-----------------+--------------------+\n",
      "\n",
      "+----------+--------------+--------------+-----------------+--------------------+----+\n",
      "|session_id|session_length|doubled_length|quadrupled_length|         _created_at|   D|\n",
      "+----------+--------------+--------------+-----------------+--------------------+----+\n",
      "|        s1|             2|           4.0|              8.0|2022-05-25 21:49:...|16.0|\n",
      "|        s2|             2|           4.0|              8.0|2022-05-25 21:49:...|16.0|\n",
      "|        s3|             2|           4.0|              8.0|2022-05-25 21:49:...|16.0|\n",
      "+----------+--------------+--------------+-----------------+--------------------+----+\n",
      "\n"
     ]
    }
   ],
   "source": [
    "args = {\n",
    "    'job_param_file': 'conf/jobs_metadata.yml',\n",
    "    'base_path': './tests/fixtures/data_sample/',\n",
    "    'dependencies': True,\n",
    "    }\n",
    "job = Runner(Job, **args).run()"
   ]
  },
  {
   "cell_type": "code",
   "execution_count": 3,
   "id": "e9093262",
   "metadata": {},
   "outputs": [
    {
     "data": {
      "text/plain": [
       "'./tests/fixtures/data_sample//wiki_example/output_ex4_dep4/date20220525_time214906_utc/'"
      ]
     },
     "execution_count": 3,
     "metadata": {},
     "output_type": "execute_result"
    }
   ],
   "source": [
    "job.jargs.output['path_expanded']"
   ]
  },
  {
   "cell_type": "code",
   "execution_count": 4,
   "id": "2a8e6b58",
   "metadata": {},
   "outputs": [
    {
     "name": "stdout",
     "output_type": "stream",
     "text": [
      "+----------+--------------+--------------+-----------------+--------------------+----+\n",
      "|session_id|session_length|doubled_length|quadrupled_length|         _created_at|   D|\n",
      "+----------+--------------+--------------+-----------------+--------------------+----+\n",
      "|        s1|             2|           4.0|              8.0|2022-05-25 21:49:...|16.0|\n",
      "|        s2|             2|           4.0|              8.0|2022-05-25 21:49:...|16.0|\n",
      "|        s3|             2|           4.0|              8.0|2022-05-25 21:49:...|16.0|\n",
      "+----------+--------------+--------------+-----------------+--------------------+----+\n",
      "\n"
     ]
    }
   ],
   "source": [
    "job.out_df.show()"
   ]
  },
  {
   "cell_type": "code",
   "execution_count": null,
   "id": "c376865f",
   "metadata": {},
   "outputs": [],
   "source": []
  }
 ],
 "metadata": {
  "kernelspec": {
   "display_name": "Python 3",
   "language": "python",
   "name": "python3"
  },
  "language_info": {
   "codemirror_mode": {
    "name": "ipython",
    "version": 3
   },
   "file_extension": ".py",
   "mimetype": "text/x-python",
   "name": "python",
   "nbconvert_exporter": "python",
   "pygments_lexer": "ipython3",
   "version": "3.6.15"
  }
 },
 "nbformat": 4,
 "nbformat_minor": 5
}
